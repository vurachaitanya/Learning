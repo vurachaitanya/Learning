{
 "cells": [
  {
   "cell_type": "code",
   "execution_count": 1,
   "metadata": {},
   "outputs": [],
   "source": [
    "import os"
   ]
  },
  {
   "cell_type": "code",
   "execution_count": 2,
   "metadata": {},
   "outputs": [],
   "source": [
    "class Employee:\n",
    "    pass"
   ]
  },
  {
   "cell_type": "code",
   "execution_count": 3,
   "metadata": {},
   "outputs": [
    {
     "name": "stdout",
     "output_type": "stream",
     "text": [
      "<__main__.Employee object at 0x00000225558E7F60>\n",
      "<__main__.Employee object at 0x00000225558E7F28>\n"
     ]
    }
   ],
   "source": [
    "class Employee:\n",
    "    pass\n",
    "emp_1= Employee()\n",
    "emp_2 = Employee()\n",
    "print(emp_1)\n",
    "print(emp_2) ### Points to two different object locatins"
   ]
  },
  {
   "cell_type": "code",
   "execution_count": 4,
   "metadata": {},
   "outputs": [
    {
     "name": "stdout",
     "output_type": "stream",
     "text": [
      "<__main__.Employee object at 0x000002255590ED30>\n",
      "<__main__.Employee object at 0x000002255590ECF8>\n",
      "srinid@gmail.com\n",
      "sridarpad@gmail.com\n"
     ]
    }
   ],
   "source": [
    "class Employee:\n",
    "    pass\n",
    "emp_1= Employee()\n",
    "emp_2 = Employee()\n",
    "print(emp_1)\n",
    "print(emp_2)\n",
    "\n",
    "emp_1.first = 'Nidhi'\n",
    "emp_1.last = 'Sri'\n",
    "emp_1.email = 'srinid@gmail.com'\n",
    "emp_1.pay = 40000\n",
    "\n",
    "emp_2.first = 'Darpad'\n",
    "emp_2.last = 'Sri'\n",
    "emp_2.email = 'sridarpad@gmail.com'\n",
    "emp_2.pay = 30000\n",
    "\n",
    "print(emp_1.email)\n",
    "print(emp_2.email)\n"
   ]
  },
  {
   "cell_type": "code",
   "execution_count": 5,
   "metadata": {},
   "outputs": [
    {
     "name": "stdout",
     "output_type": "stream",
     "text": [
      "sri.nidhi@company.com\n",
      "sri.darpad@company.com\n"
     ]
    }
   ],
   "source": [
    "class Employee:\n",
    "    def __init__(self,first,last,pay):\n",
    "        self.first = first\n",
    "        self.last = last\n",
    "        self.pay = pay\n",
    "        self.email = first + '.' + last + '@company.com'\n",
    "\n",
    "emp_1= Employee('sri','nidhi',44444)\n",
    "emp_2 = Employee('sri','darpad',55555)\n",
    "print(emp_1.email)\n",
    "print(emp_2.email)"
   ]
  },
  {
   "cell_type": "code",
   "execution_count": 7,
   "metadata": {},
   "outputs": [
    {
     "name": "stdout",
     "output_type": "stream",
     "text": [
      "sri.nidhi@company.com\n",
      "sri.darpad@company.com\n",
      "sri nidhi\n"
     ]
    }
   ],
   "source": [
    "class Employee:\n",
    "    def __init__(self,first,last,pay): ### Methord So called as function outside of the class\n",
    "        self.first = first\n",
    "        self.last = last\n",
    "        self.pay = pay\n",
    "        self.email = first + '.' + last + '@company.com'\n",
    "\n",
    "emp_1= Employee('sri','nidhi',44444)\n",
    "emp_2 = Employee('sri','darpad',55555)\n",
    "print(emp_1.email)\n",
    "print(emp_2.email)\n",
    "print('{} {}'.format(emp_1.first,emp_1.last))"
   ]
  },
  {
   "cell_type": "code",
   "execution_count": 8,
   "metadata": {},
   "outputs": [
    {
     "name": "stdout",
     "output_type": "stream",
     "text": [
      "sri.nidhi@company.com\n",
      "sri.darpad@company.com\n",
      "sri nidhi\n"
     ]
    }
   ],
   "source": [
    "class Employee:\n",
    "    def __init__(self,first,last,pay): ### Methord So called as function outside of the class\n",
    "        self.first = first\n",
    "        self.last = last\n",
    "        self.pay = pay\n",
    "        self.email = first + '.' + last + '@company.com'\n",
    "    \n",
    "    def fullname(self): ### Methrod 2\n",
    "        return '{} {}'.format(self.first, self.last)\n",
    "\n",
    "emp_1= Employee('sri','nidhi',44444)\n",
    "emp_2 = Employee('sri','darpad',55555)\n",
    "print(emp_1.email)\n",
    "print(emp_2.email)\n",
    "print(emp_1.fullname())"
   ]
  },
  {
   "cell_type": "code",
   "execution_count": 9,
   "metadata": {},
   "outputs": [
    {
     "name": "stdout",
     "output_type": "stream",
     "text": [
      "sri.nidhi@company.com\n",
      "sri.darpad@company.com\n"
     ]
    },
    {
     "ename": "TypeError",
     "evalue": "fullname() takes 0 positional arguments but 1 was given",
     "output_type": "error",
     "traceback": [
      "\u001b[1;31m---------------------------------------------------------------------------\u001b[0m",
      "\u001b[1;31mTypeError\u001b[0m                                 Traceback (most recent call last)",
      "\u001b[1;32m<ipython-input-9-c6dbadd0365b>\u001b[0m in \u001b[0;36m<module>\u001b[1;34m\u001b[0m\n\u001b[0;32m     13\u001b[0m \u001b[0mprint\u001b[0m\u001b[1;33m(\u001b[0m\u001b[0memp_1\u001b[0m\u001b[1;33m.\u001b[0m\u001b[0memail\u001b[0m\u001b[1;33m)\u001b[0m\u001b[1;33m\u001b[0m\u001b[1;33m\u001b[0m\u001b[0m\n\u001b[0;32m     14\u001b[0m \u001b[0mprint\u001b[0m\u001b[1;33m(\u001b[0m\u001b[0memp_2\u001b[0m\u001b[1;33m.\u001b[0m\u001b[0memail\u001b[0m\u001b[1;33m)\u001b[0m\u001b[1;33m\u001b[0m\u001b[1;33m\u001b[0m\u001b[0m\n\u001b[1;32m---> 15\u001b[1;33m \u001b[0mprint\u001b[0m\u001b[1;33m(\u001b[0m\u001b[0memp_1\u001b[0m\u001b[1;33m.\u001b[0m\u001b[0mfullname\u001b[0m\u001b[1;33m(\u001b[0m\u001b[1;33m)\u001b[0m\u001b[1;33m)\u001b[0m\u001b[1;33m\u001b[0m\u001b[1;33m\u001b[0m\u001b[0m\n\u001b[0m",
      "\u001b[1;31mTypeError\u001b[0m: fullname() takes 0 positional arguments but 1 was given"
     ]
    }
   ],
   "source": [
    "class Employee:\n",
    "    def __init__(self,first,last,pay): ### Methord So called as function outside of the class\n",
    "        self.first = first\n",
    "        self.last = last\n",
    "        self.pay = pay\n",
    "        self.email = first + '.' + last + '@company.com'\n",
    "    \n",
    "    def fullname(): ### SELF Removed\n",
    "        return '{} {}'.format(self.first, self.last)\n",
    "\n",
    "emp_1= Employee('sri','nidhi',44444)\n",
    "emp_2 = Employee('sri','darpad',55555)\n",
    "print(emp_1.email)\n",
    "print(emp_2.email)\n",
    "print(emp_1.fullname()) ### Error as emp_1 is not talking it as input to the methord"
   ]
  },
  {
   "cell_type": "code",
   "execution_count": 15,
   "metadata": {},
   "outputs": [
    {
     "name": "stdout",
     "output_type": "stream",
     "text": [
      "sri darpad\n"
     ]
    },
    {
     "data": {
      "text/plain": [
       "'sri nidhi'"
      ]
     },
     "execution_count": 15,
     "metadata": {},
     "output_type": "execute_result"
    }
   ],
   "source": [
    "class Employee:\n",
    "    def __init__(self,first,last,pay): ### Methord So called as function outside of the class\n",
    "        self.first = first\n",
    "        self.last = last\n",
    "        self.pay = pay\n",
    "        self.email = first + '.' + last + '@company.com'\n",
    "    \n",
    "    def fullname(self):\n",
    "        return '{} {}'.format(self.first, self.last)\n",
    "\n",
    "emp_1= Employee('sri','nidhi',44444)\n",
    "emp_2 = Employee('sri','darpad',55555)\n",
    "\n",
    "\n",
    "print(Employee.fullname(emp_2)) ### IF called with class need to add emp_2\n",
    "emp_1.fullname() ### When called with methord"
   ]
  },
  {
   "cell_type": "code",
   "execution_count": 18,
   "metadata": {},
   "outputs": [
    {
     "name": "stdout",
     "output_type": "stream",
     "text": [
      "['1.', 'sample', 'file']\n",
      "['2.', 'created', 'by']\n",
      "['3.', 'chaitanya']\n",
      "['1.', 'sample', 'file']\n",
      "['2.', 'created', 'by']\n",
      "['2.', 'created', 'by']\n",
      "['3.', 'chaitanya']\n",
      "['3.', 'chaitanya']\n",
      "['1.', 'sample', 'file']\n",
      "number of words : 24\n"
     ]
    }
   ],
   "source": [
    "word_count = 0 \n",
    "file_name = 'smp2.txt'\n",
    "\n",
    "with open(file_name,'r') as file:\n",
    "    for line in file:\n",
    "        word_count += len(line.split())\n",
    "        print(line.split())\n",
    "\n",
    "print (\"number of words :\", word_count)"
   ]
  },
  {
   "cell_type": "code",
   "execution_count": 33,
   "metadata": {},
   "outputs": [
    {
     "name": "stdout",
     "output_type": "stream",
     "text": [
      "1 5\n",
      "2 3\n",
      "3 6\n",
      "by 3\n",
      "chaitanya 6\n",
      "created 3\n",
      "file 5\n",
      "sample 5\n"
     ]
    }
   ],
   "source": [
    "file = open(\"smp2.txt\", \"r\")\n",
    "lines = file.readlines()\n",
    "\n",
    "word_dict = {}\n",
    "\n",
    "for line in lines:\n",
    "    # Get all the words in the current line\n",
    "    words = line.split()\n",
    "    for word in words:\n",
    "        # Perform whatever manipulation to the word here\n",
    "        # Remove any punctuation from the word\n",
    "        word = word.strip(\".,!?:;'\\\"\")\n",
    "        # Make the word lowercase\n",
    "        word = word.lower()\n",
    "\n",
    "        # Add the word to word_dict\n",
    "        word_dict[word] = word_dict.get(word, 0) + 1\n",
    "\n",
    "# Create a wordlist to display the words sorted\n",
    "word_list = list(word_dict.keys())\n",
    "word_list.sort()\n",
    "\n",
    "for word in word_list:\n",
    "    print(word, word_dict[word])"
   ]
  },
  {
   "cell_type": "code",
   "execution_count": 53,
   "metadata": {},
   "outputs": [
    {
     "data": {
      "text/plain": [
       "10"
      ]
     },
     "execution_count": 53,
     "metadata": {},
     "output_type": "execute_result"
    }
   ],
   "source": [
    "word_dict.get(\"chaitanya\") + 4"
   ]
  },
  {
   "cell_type": "code",
   "execution_count": 54,
   "metadata": {},
   "outputs": [
    {
     "data": {
      "text/plain": [
       "6"
      ]
     },
     "execution_count": 54,
     "metadata": {},
     "output_type": "execute_result"
    }
   ],
   "source": [
    "word_dict.get(\"chaitanya\")"
   ]
  },
  {
   "cell_type": "code",
   "execution_count": 55,
   "metadata": {},
   "outputs": [
    {
     "data": {
      "text/plain": [
       "6"
      ]
     },
     "execution_count": 55,
     "metadata": {},
     "output_type": "execute_result"
    }
   ],
   "source": [
    "word_dict.get(\"chaitanya\",0)"
   ]
  },
  {
   "cell_type": "code",
   "execution_count": 60,
   "metadata": {},
   "outputs": [
    {
     "name": "stdout",
     "output_type": "stream",
     "text": [
      "1 14\n",
      "file 14\n",
      "sample 14\n"
     ]
    }
   ],
   "source": [
    "filepath = open('smp2.txt','r') \n",
    "line = filepath.readlines()\n",
    "\n",
    "count_dic = {}\n",
    "\n",
    "for lines in line:\n",
    "    word = lines.split()\n",
    "    for word in words:\n",
    "        word = word.lower()\n",
    "        word = word.strip(\",.!;'\\\"\")\n",
    "        count_dic[word] = count_dic.get(word,0)+1\n",
    "word_list = list(count_dic.keys())\n",
    "word_list.sort()\n",
    "for word in word_list:\n",
    "    print(word,count_dic[word])"
   ]
  },
  {
   "cell_type": "code",
   "execution_count": 61,
   "metadata": {},
   "outputs": [
    {
     "name": "stdout",
     "output_type": "stream",
     "text": [
      "e 2\n"
     ]
    }
   ],
   "source": [
    "chars = \"abcdefghijklmnopqrstuvwxyz\"\n",
    "check_string = \"abcdefghijkle\"\n",
    "\n",
    "for char in chars:\n",
    "  count = check_string.count(char)\n",
    "  if count > 1:\n",
    "    print (char, count)"
   ]
  }
 ],
 "metadata": {
  "kernelspec": {
   "display_name": "Python 3",
   "language": "python",
   "name": "python3"
  },
  "language_info": {
   "codemirror_mode": {
    "name": "ipython",
    "version": 3
   },
   "file_extension": ".py",
   "mimetype": "text/x-python",
   "name": "python",
   "nbconvert_exporter": "python",
   "pygments_lexer": "ipython3",
   "version": "3.7.3"
  }
 },
 "nbformat": 4,
 "nbformat_minor": 2
}
