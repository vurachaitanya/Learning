{
 "metadata": {
  "language_info": {
   "codemirror_mode": {
    "name": "ipython",
    "version": 3
   },
   "file_extension": ".py",
   "mimetype": "text/x-python",
   "name": "python",
   "nbconvert_exporter": "python",
   "pygments_lexer": "ipython3",
   "version": "3.7.3-final"
  },
  "orig_nbformat": 2,
  "kernelspec": {
   "name": "Python 3.7.3 64-bit ('ProgramData': virtualenv)",
   "display_name": "Python 3.7.3 64-bit ('ProgramData': virtualenv)",
   "metadata": {
    "interpreter": {
     "hash": "b3ba2566441a7c06988d0923437866b63cedc61552a5af99d1f4fb67d367b25f"
    }
   }
  }
 },
 "nbformat": 4,
 "nbformat_minor": 2,
 "cells": [
  {
   "cell_type": "code",
   "execution_count": 5,
   "metadata": {
    "tags": []
   },
   "outputs": [
    {
     "output_type": "stream",
     "name": "stdout",
     "text": "hello world\nNone\n26\n45\n"
    }
   ],
   "source": [
    "\n",
    "# Importing file name call sample_fun_class in some file we are calling that into this file by importing\n",
    "\n",
    "# Should be in same folder or should be updated in path\n",
    "\n",
    "import sample_fun_class as sfc\n",
    "print(sfc.myfun())\n",
    "print(sfc.myfun2(4,22))\n",
    "print(sfc.x)\n"
   ]
  },
  {
   "cell_type": "code",
   "execution_count": 6,
   "metadata": {
    "tags": []
   },
   "outputs": [
    {
     "output_type": "stream",
     "name": "stdout",
     "text": "2020-10-11 02:35:42.830249\n"
    }
   ],
   "source": [
    "import os\n",
    "import datetime\n",
    "print(datetime.datetime.now())\n",
    "\n"
   ]
  },
  {
   "cell_type": "code",
   "execution_count": 9,
   "metadata": {
    "tags": []
   },
   "outputs": [
    {
     "output_type": "stream",
     "name": "stdout",
     "text": "[4, 5, 6, 2, 9, 5]\n\n\n[ 6 14 11]\n"
    }
   ],
   "source": [
    "import numpy\n",
    "x=[4,5,6]\n",
    "y=[2,9,5]\n",
    "print(x+y)\n",
    "\n",
    "print('\\n')\n",
    "x=numpy.array([4,5,6])\n",
    "y=numpy.array([2,9,5])\n",
    "print(x+y)"
   ]
  },
  {
   "cell_type": "code",
   "execution_count": 22,
   "metadata": {
    "tags": []
   },
   "outputs": [
    {
     "output_type": "stream",
     "name": "stdout",
     "text": "(20, 5)\nIndex([&#39;Dates&#39;, &#39;Temperature&#39;, &#39;Humidity&#39;, &#39;Pressure&#39;, &#39;Air Quality&#39;], dtype=&#39;object&#39;)\n\n\n(20, 4)\nInt64Index([0, 1, 2, 3], dtype=&#39;int64&#39;)\n\n\n(19, 4)\nIndex([&#39;18&#39;, &#39;37&#39;, &#39;22&#39;, &#39;10&#39;], dtype=&#39;object&#39;)\n\n\n"
    }
   ],
   "source": [
    "import pandas\n",
    "data= pandas.read_csv(r\"C:\\Users\\vchaita3\\Desktop\\files\\Jupyter Notebook\\datasets\\Data Sets\\datawh.csv\")\n",
    "print(data.shape) # no of rows and columns in a dataframe\n",
    "print(data.columns) #to get the name of columns\n",
    "print('\\n')\n",
    "\n",
    "data1= pandas.read_csv(r\"C:\\Users\\vchaita3\\Desktop\\files\\Jupyter Notebook\\datasets\\Data Sets\\datanh.csv\",header=None)\n",
    "print(data1.shape) # no of rows and columns in a dataframe\n",
    "print(data1.columns) #to get the name of columns\n",
    "print('\\n')\n",
    "\n",
    "data2= pandas.read_csv(r\"C:\\Users\\vchaita3\\Desktop\\files\\Jupyter Notebook\\datasets\\Data Sets\\datanh.csv\") ## IF headers were not given one of the column is taken as header and has 19 lines only \n",
    "print(data2.shape) # no of rows and columns in a dataframe\n",
    "print(data2.columns) #to get the name of columns\n",
    "print('\\n')\n"
   ]
  },
  {
   "cell_type": "code",
   "execution_count": 32,
   "metadata": {
    "tags": []
   },
   "outputs": [
    {
     "output_type": "stream",
     "name": "stdout",
     "text": "   18  37  22  10\n0  16  27  19  30\n1  19  49  19  16\n2  30  36  21  13\n3  23  45  16  13\n4  12  47  22  19\n   temp  humidity  air_quality  pressure\n0    16        27           19        30\n1    19        49           19        16\n2    30        36           21        13\n3    23        45           16        13\n4    12        47           22        19\n"
    }
   ],
   "source": [
    "data3= pandas.read_csv(r\"C:\\Users\\vchaita3\\Desktop\\files\\Jupyter Notebook\\datasets\\Data Sets\\datanh.csv\") ## IF headers were not given one of the column is taken as header and has 19 lines only \n",
    "print(data3.head())\n",
    "data3.columns=['temp','humidity','air_quality','pressure']\n",
    "print(data3.head())\n"
   ]
  },
  {
   "cell_type": "code",
   "execution_count": 69,
   "metadata": {
    "tags": []
   },
   "outputs": [
    {
     "output_type": "stream",
     "name": "stdout",
     "text": "        Dates  Temperature  Humidity  Pressure  Air Quality\n0  30-04-2018        218.0     182.0       4.0          2.0\n1  01-05-2018       2592.0     182.0       3.0          2.0\n2  02-05-2018          NaN     439.0       4.0          0.0\n3  03-05-2018       2439.0      53.0       5.0          1.0\n4  04-05-2018        824.0     444.0       5.0          0.0\n\n\nDates          0\nTemperature    5\nHumidity       3\nPressure       5\nAir Quality    1\ndtype: int64\n\n\nNone\n         Dates  Temperature  Humidity  Pressure  Air Quality\n15  15-05-2018  1554.466667     259.0  4.000000          0.0\n17  17-05-2018  2200.000000     325.0  3.000000          2.0\n18  18-05-2018  1722.000000     523.0  3.266667          2.0\n19  19-05-2018   766.000000     535.0  3.000000          2.0\n19\n\n\n12\nNone\n\n\n       Temperature    Humidity   Pressure  Air Quality\ncount    19.000000   19.000000  19.000000    19.000000\nmean   1554.466667  339.235294   3.266667     1.157895\nstd     781.908482  139.981161   1.393105     0.834210\nmin     109.000000   53.000000   0.000000     0.000000\n25%    1071.000000  223.500000   3.000000     0.500000\n50%    1554.466667  339.235294   3.266667     1.000000\n75%    2002.000000  437.000000   4.000000     2.000000\nmax    2945.000000  535.000000   5.000000     2.000000\n321.35294117647055\n2200.0\n"
    }
   ],
   "source": [
    "### CLEANING DATA remove null/ dot replace with null/ NA /\n",
    "data4= pandas.read_csv(r\"C:\\Users\\vchaita3\\Desktop\\files\\Jupyter Notebook\\datasets\\Data Sets\\datawh_missing.csv\",na_values='.')\n",
    "\n",
    "print(data4.head())\n",
    "print('\\n')\n",
    "\n",
    "#How to heck missing values\n",
    "print(data4.isnull().sum())\n",
    "print('\\n')\n",
    "\n",
    "##To Clean missing values \n",
    "print(data4.dropna(thresh=3,inplace=True))\n",
    "#Atleast 3 rows values are missing with a threshold it would be removed ## Inplace true remove perminently \n",
    "\n",
    "data4.fillna(data4.mean(),inplace=True) ### fill empty spaces with mean of that row\n",
    "\n",
    "data4.replace('.',5,inplace=True) #5th place replace . with 5\n",
    "\n",
    "data4.head() ## 5 rows \n",
    "data4.head(2)\n",
    "print(data4.tail(4)) #last 4 lines\n",
    "###################################\n",
    "\n",
    "data4['Temperature']\n",
    "data4.Temperature\n",
    "data4.columns\n",
    "data4['Air Quality'] #### can't us Dot format if space is present\n",
    "\n",
    "data4.iloc[:,1] ### Based on column\n",
    "\n",
    "print(data4.Temperature.count())\n",
    "data4['Temperature'].count()\n",
    "\n",
    "print('\\n')\n",
    "### Print Tem more than 15000\n",
    "\n",
    "print(data4['Temperature'][data4['Temperature']>1500].count())\n",
    "\n",
    "\n",
    "\n",
    "\n",
    "print(data4.Humidity.fillna(data4.Humidity.median(),inplace=True))\n",
    "\n",
    "print('\\n')\n",
    "\n",
    "### Statistical Analysis Pandas\n",
    "print(data4.describe()) #For all columns\n",
    "\n",
    "#humidity of temp more  than 1500\n",
    "print(data4.Humidity[data4.Temperature > 1500].mean())\n",
    "\n",
    "print('\\n')\n",
    "#### 86 percentile of the value is 19 values and 83% = 19*0.83 = 15.77 \n",
    "#So index value of 15 will be 83% value###### Sort it \n",
    "print(data4.Temperature.sort_values()[17])\n",
    "\n",
    "\n",
    "####Stats view \n",
    "data4=df\n",
    "\n",
    "df.Humidity.median()\n",
    "df.Humidity.mode()\n",
    "df.Humidity.var()\n",
    "df.cov()\n",
    "df.corr()\n",
    "df.skew()\n",
    "df.kurt()\n",
    "df.Humidity.max()\n",
    "df.Humidity.min()\n"
   ]
  }
 ]
}