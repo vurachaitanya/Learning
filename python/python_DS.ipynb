{
 "metadata": {
  "language_info": {
   "codemirror_mode": {
    "name": "ipython",
    "version": 3
   },
   "file_extension": ".py",
   "mimetype": "text/x-python",
   "name": "python",
   "nbconvert_exporter": "python",
   "pygments_lexer": "ipython3",
   "version": "3.7.3-final"
  },
  "orig_nbformat": 2,
  "kernelspec": {
   "name": "Python 3.7.3 64-bit ('ProgramData': virtualenv)",
   "display_name": "Python 3.7.3 64-bit ('ProgramData': virtualenv)",
   "metadata": {
    "interpreter": {
     "hash": "b3ba2566441a7c06988d0923437866b63cedc61552a5af99d1f4fb67d367b25f"
    }
   }
  }
 },
 "nbformat": 4,
 "nbformat_minor": 2,
 "cells": [
  {
   "cell_type": "code",
   "execution_count": 4,
   "metadata": {},
   "outputs": [
    {
     "output_type": "execute_result",
     "data": {
      "text/plain": "&#39;\\nnumpy, scipy  = mathematical computation\\npandas = I/O , data cleaning, manipulation, exploration\\nmathplotlib, seabron = data visualization\\n\\nscikit-learn sklearn - machine learining algorithms\\nTensorflow, theano - Advance ML, Deep Learning\\nkeras, Pytorch = Deep Learning\\n\\nNLTK, Textblob,spacy = NLP\\nopencv, skimage = image processing\\n\\nFlask, Django = Web application development\\nQT, tkiner = Desktop application development\\n&#39;"
     },
     "metadata": {},
     "execution_count": 4
    }
   ],
   "source": [
    "## Different types of python Modules used in ML & DS\n",
    "\"\"\"\n",
    "numpy, scipy  = mathematical computation\n",
    "pandas = I/O , data cleaning, manipulation, exploration\n",
    "mathplotlib, seabron = data visualization\n",
    "\n",
    "scikit-learn, sklearn - machine learining algorithms\n",
    "Tensorflow, theano - Advance ML, Deep Learning\n",
    "keras, Pytorch = Deep Learning\n",
    "\n",
    "NLTK, Textblob,spacy = NLP\n",
    "opencv, skimage = image processing\n",
    "\n",
    "Flask, Django = Web application development\n",
    "QT, tkiner = Desktop application development\n",
    "\"\"\""
   ]
  },
  {
   "cell_type": "code",
   "execution_count": 25,
   "metadata": {
    "tags": []
   },
   "outputs": [
    {
     "output_type": "stream",
     "name": "stdout",
     "text": "[1, 3, 5, 4, 7, 9]\n[ 6 10 12]\n \n\n[[4 5 8]\n [2 6 2]\n [4 8 3]]\n9\n(3, 3)\n4\n2\n[4 8 3]\n[4 8 3]\n[4 8 3]\n \n\n[8 2 3]\n \n\n[[4 7 8]\n [2 4 2]\n [4 6 3]]\n"
    }
   ],
   "source": [
    "# DEclaring Arrays using numpy\n",
    "\n",
    "# Statistical analysis using numpy\n",
    "\n",
    "# manipulations of array\n",
    "\n",
    "# linear Algebra using numpy\n",
    "\n",
    "a = [1,3,5]\n",
    "b = [4,7,9]\n",
    "c=a+b\n",
    "print(c) ## Can't add two lists\n",
    "\n",
    "# DEclaring Arrays using numpy\n",
    "import numpy\n",
    "a=numpy.array([2,4,5])\n",
    "b=numpy.array([4,6,7])\n",
    "c=a+b\n",
    "print(c)\n",
    "\n",
    "print(\" \\n\")\n",
    "\n",
    "## Multi dimentional array\n",
    "#x=numpy.array([4,5,6])\n",
    "x=numpy.array([[4,5,8],[2,6,2],[4,8,3]])\n",
    "print(x)\n",
    "print(x.size) # Size of the array\n",
    "\n",
    "print (x.shape) # Shape of the Array\n",
    "\n",
    "## printing required columns\n",
    "print(x[0,0]) # 1st column 1st row\n",
    "print(x[1,0]) # 2nd column 1st row\n",
    "\n",
    "#### all are same\n",
    "print(x[2,0:3])\n",
    "print(x[2,:])\n",
    "print(x[2])\n",
    "\n",
    "print(\" \\n\")\n",
    "\n",
    "print(x[:,2]) # to get 2nd column from an array\n",
    "\n",
    "print(\" \\n\")\n",
    "x[:,1]=[7,4,6] ### new valumes in 1st column\n",
    "print(x)\n"
   ]
  },
  {
   "cell_type": "code",
   "execution_count": 32,
   "metadata": {
    "tags": []
   },
   "outputs": [
    {
     "output_type": "stream",
     "name": "stdout",
     "text": "[[4 5 8]\n [2 6 2]\n [4 8 3]]\n \n\n[[ 4  5  9]\n [ 2  6  8]\n [ 4  8 12]]\n \n\n[[4 5 5]\n [2 6 6]\n [4 8 8]]\n \n\n"
    }
   ],
   "source": [
    "#to add 0th col and 1st col store result in 2nd column\n",
    "import numpy\n",
    "x=numpy.array([[4,5,8],[2,6,2],[4,8,3]])\n",
    "print(x)\n",
    "print(\" \\n\")\n",
    "x[:,2]=x[:,0]+x[:,1]\n",
    "print(x)\n",
    "print(\" \\n\")\n",
    "x[:,2]=x[:,0+1] ######### NOT WORK\n",
    "print(x)\n",
    "print(\" \\n\")"
   ]
  },
  {
   "cell_type": "code",
   "execution_count": 54,
   "metadata": {
    "tags": []
   },
   "outputs": [
    {
     "output_type": "stream",
     "name": "stdout",
     "text": "[1. 1. 1. 1. 1.]\n \n\n[[1. 1. 1. 1. 1.]\n [1. 1. 1. 1. 1.]]\n \n\n[[0. 0. 0. 0. 0.]\n [0. 0. 0. 0. 0.]\n [0. 0. 0. 0. 0.]\n [0. 0. 0. 0. 0.]]\n \n\n[list([1, 3]) list([1, 2, 3]) list([1, 2, 4, 5])]\n \n\n[[2. 2. 2. 2.]\n [2. 2. 2. 2.]]\n \n\n[ 0  1  2  3  4  5  6  7  8  9 10 11]\n \n\n[ 8  9 10 11]\n \n\n[ 2  4  6  8 10]\n \n\n[4.         4.66666667 5.33333333 6.        ]\n \n\n[1.         1.72727273 2.45454545 3.18181818 3.90909091 4.63636364\n 5.36363636 6.09090909 6.81818182 7.54545455 8.27272727 9.        ]\n\n\n[1.00000000e+00 2.15443469e+01 4.64158883e+02 1.00000000e+04]\n \n\n[    1    10   100  1000 10000]\n \n\n[    1    10   100  1000 10000]\n \n\n2.302585092994046\n9.210340371976184\n"
    }
   ],
   "source": [
    "#Declaring numpy array\n",
    "x=numpy.ones(5)\n",
    "print(x)\n",
    "print(\" \\n\")\n",
    "\n",
    "\n",
    "x=numpy.ones((2,5))\n",
    "print(x)\n",
    "print(\" \\n\")\n",
    "\n",
    "x=numpy.zeros((4,5))\n",
    "print(x)\n",
    "print(\" \\n\")\n",
    "\n",
    "x=numpy.array([[1,3],[1,2,3],[1,2,4,5]]) ##Different type of array size\n",
    "print(x)\n",
    "print(\" \\n\")\n",
    "\n",
    "\n",
    "x=2*numpy.ones((2,4)) ### using 2 matix\n",
    "print(x)\n",
    "print(\" \\n\")\n",
    "\n",
    "x=numpy.arange(12) ###Array starts 1 to 11 sequential array\n",
    "print(x)\n",
    "print(\" \\n\")\n",
    "\n",
    "x=numpy.arange(8,12)\n",
    "print(x)\n",
    "print(\" \\n\")\n",
    "\n",
    "x=numpy.arange(2,12,2)\n",
    "print(x)\n",
    "print(\" \\n\")\n",
    "\n",
    "\n",
    "x=numpy.linspace(start=4,stop=6,num=4) ### equally spaced values\n",
    "print(x)\n",
    "print(\" \\n\")\n",
    "\n",
    "x=numpy.linspace(1,9,12)\n",
    "print(x)\n",
    "print('\\n')\n",
    "\n",
    "\n",
    "x=numpy.logspace(0,4,4)\n",
    "print(x)\n",
    "print(' \\n')\n",
    "\n",
    "\n",
    "x=numpy.logspace(0,4,5) ### Log space from 0 to 4 with 5 positions \n",
    "x=x.astype('int32')\n",
    "print(x)\n",
    "print(' \\n')\n",
    "\n",
    "\n",
    "x=numpy.logspace(0,4,5,dtype='int32')\n",
    "print(x)\n",
    "print(' \\n')\n",
    "\n",
    "print(numpy.log(10))\n",
    "\n",
    "print(numpy.log(10000))\n"
   ]
  },
  {
   "cell_type": "code",
   "execution_count": 59,
   "metadata": {
    "tags": []
   },
   "outputs": [
    {
     "output_type": "stream",
     "name": "stdout",
     "text": "[[7 5 8]\n [2 6 2]\n [4 8 3]]\n2\n8\n5.0\n \n\n[2 5 2]\n[7 8 8]\n[4.33333333 6.33333333 4.33333333]\n[6.66666667 3.33333333 5.        ]\n"
    }
   ],
   "source": [
    "#statistical analysis using numpy\n",
    "x=numpy.array([[7,5,8],[2,6,2],[4,8,3]])\n",
    "print(x)\n",
    "print(x.min()) ### Row operation\n",
    "print(x.max()) ### Row operation\n",
    "print(x.mean()) ### Row operation\n",
    "\n",
    "\n",
    "########Column operation\n",
    "print(' \\n')\n",
    "\n",
    "print(x.min(axis=0))\n",
    "print(x.max(axis=0))\n",
    "print(x.mean(axis=0))\n",
    "print(x.mean(axis=1))\n",
    "\n",
    "print(' \\n')\n",
    "\n"
   ]
  },
  {
   "cell_type": "code",
   "execution_count": 66,
   "metadata": {
    "tags": []
   },
   "outputs": [
    {
     "output_type": "stream",
     "name": "stdout",
     "text": "29.9\n77.19\n\n\n24.608333333333334\n9.60409722222222\n\n\n8.78578397184907\n3.0990477928264064\n"
    }
   ],
   "source": [
    "\n",
    "### VAriance = Spread of the data across mean\n",
    "#delhi temp Gassian curve \n",
    "d = numpy.array([18,19,21,23,23,24,40,23,43,34,23,32,32,33,43,45,44,29,22,27])\n",
    "print(d.mean())\n",
    "print(numpy.var(d))\n",
    "\n",
    "print('\\n')\n",
    "\n",
    "m = numpy.array([22,21,22,22.5,22.8,26,29,28,21,24,27,30])\n",
    "print(m.mean())\n",
    "print(numpy.var(m)) ## if variance is 0 or near to 0 it mean it is not impacting the feature \n",
    "# example customer age in an example data of customer leaving data\n",
    "# if in case of some image, if variance of pixcel is zero then no image,if it is high/medium then some images would be there\n",
    "\n",
    "print('\\n')\n",
    "# Standard deviation = square root of variance\n",
    "print(numpy.std(d))\n",
    "print(numpy.std(m))"
   ]
  },
  {
   "cell_type": "code",
   "execution_count": 74,
   "metadata": {
    "tags": []
   },
   "outputs": [
    {
     "output_type": "stream",
     "name": "stdout",
     "text": "20\n[[18 19 21 23]\n [23 24 40 23]\n [43 34 23 32]\n [32 33 43 45]\n [44 29 22 27]]\n(5, 4)\nint32\n[[18. 19. 21. 23.]\n [23. 24. 40. 23.]\n [43. 34. 23. 32.]\n [32. 33. 43. 45.]\n [44. 29. 22. 27.]]\nfloat32\n\n\n[[ 1.00000000e+00  6.66133815e-16 -5.00000000e-01]\n [ 1.03333333e+01 -1.33333333e+00 -4.33333333e+00]\n [-8.00000000e+00  1.00000000e+00  3.50000000e+00]]\n[[ 1.00000000e+00 -2.10942375e-15 -2.22044605e-15]\n [ 0.00000000e+00  1.00000000e+00  0.00000000e+00]\n [ 8.88178420e-16  4.44089210e-15  1.00000000e+00]]\n"
    }
   ],
   "source": [
    "### Reshape\n",
    "d = numpy.array([18,19,21,23,23,24,40,23,43,34,23,32,32,33,43,45,44,29,22,27])\n",
    "print(d.size)\n",
    "d=d.reshape(5,4)\n",
    "print(d)\n",
    "print(d.shape)\n",
    "print(d.dtype)\n",
    "d=d.astype('float32')\n",
    "print(d)\n",
    "print(d.dtype)\n",
    "print('\\n')\n",
    "\n"
   ]
  },
  {
   "cell_type": "code",
   "execution_count": 79,
   "metadata": {
    "tags": []
   },
   "outputs": [
    {
     "output_type": "stream",
     "name": "stdout",
     "text": "[[ 1.00000000e+00  6.66133815e-16 -5.00000000e-01]\n [ 1.03333333e+01 -1.33333333e+00 -4.33333333e+00]\n [-8.00000000e+00  1.00000000e+00  3.50000000e+00]]\n\n\n[[ 1.00000000e+00 -2.10942375e-15 -2.22044605e-15]\n [ 0.00000000e+00  1.00000000e+00  0.00000000e+00]\n [ 8.88178420e-16  4.44089210e-15  1.00000000e+00]]\n\n\n3\n\n\n(array([14.29938469, -1.56713369,  0.267749  ]), matrix([[-0.37573664, -0.15318135, -0.11469634],\n        [-0.60854925,  0.85127959, -0.77024249],\n        [-0.69892045, -0.5018551 ,  0.62735258]]))\n"
    }
   ],
   "source": [
    "#Linear Algebra using numpy\n",
    "m=numpy.matrix([[2,3,4],[9,3,5],[2,6,8]])\n",
    "print(numpy.linalg.inv(m))\n",
    "print('\\n')\n",
    "\n",
    "print(numpy.linalg.inv(m)*m)\n",
    "print('\\n')\n",
    "\n",
    "## Ranking of matrix\n",
    "print(numpy.linalg.matrix_rank(m))\n",
    "print('\\n')\n",
    "\n",
    "\n",
    "#Eigen Vectors\n",
    "print(numpy.linalg.eig(m))\n",
    "print('\\n')"
   ]
  },
  {
   "cell_type": "code",
   "execution_count": 80,
   "metadata": {},
   "outputs": [
    {
     "output_type": "execute_result",
     "data": {
      "text/plain": "array([2., 3.])"
     },
     "metadata": {},
     "execution_count": 80
    }
   ],
   "source": [
    "#linear algebra \n",
    "#2x+3y=13\n",
    "#4x-y=5\n",
    "\n",
    "a=[[2,3],[4,-1]]\n",
    "b=[13,5]\n",
    "numpy.linalg.solve(a,b)"
   ]
  }
 ]
}