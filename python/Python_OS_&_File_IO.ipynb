{
 "cells": [
  {
   "cell_type": "code",
   "execution_count": 2,
   "metadata": {},
   "outputs": [
    {
     "data": {
      "text/plain": [
       "environ{'ALLUSERSPROFILE': 'C:\\\\ProgramData',\n",
       "        'APPDATA': 'C:\\\\Users\\\\vchaita3\\\\AppData\\\\Roaming',\n",
       "        'APPSENSEHOME': '\\\\\\\\ms.ds.uhc.com\\\\userdata\\\\092\\\\vchaita3',\n",
       "        'APPSENSEPERSONALIZATION': 'Disabled',\n",
       "        'COMMONPROGRAMFILES': 'C:\\\\Program Files\\\\Common Files',\n",
       "        'COMMONPROGRAMFILES(X86)': 'C:\\\\Program Files (x86)\\\\Common Files',\n",
       "        'COMMONPROGRAMW6432': 'C:\\\\Program Files\\\\Common Files',\n",
       "        'COMPUTERNAME': 'LHTU05CG8431Z0J',\n",
       "        'COMSPEC': 'C:\\\\Windows\\\\system32\\\\cmd.exe',\n",
       "        'DEPLOYMENT.EXPIRATION.CHECK.ENABLED': 'false',\n",
       "        'DRIVERDATA': 'C:\\\\Windows\\\\System32\\\\Drivers\\\\DriverData',\n",
       "        'GOPATH': 'C:\\\\Users\\\\vchaita3\\\\go',\n",
       "        'GP_AEPSTATUS': 'ThisIsNonAEPWorkstation',\n",
       "        'GP_SCFORCEOPTION': '1',\n",
       "        'GP_SCREMOVEOPTION': '1',\n",
       "        'HOME': 'C:\\\\Users\\\\vchaita3',\n",
       "        'HOMEDRIVE': 'C:',\n",
       "        'HOMEPATH': '\\\\Users\\\\vchaita3',\n",
       "        'LOCALAPPDATA': 'C:\\\\Users\\\\vchaita3\\\\AppData\\\\Local',\n",
       "        'LOCALDSSERVER': 'DSMEP0372.MS.DS.UHC.COM',\n",
       "        'LOGONSERVER': '\\\\\\\\ADC20008',\n",
       "        'LS_EMRUN': '1',\n",
       "        'NUMBER_OF_PROCESSORS': '4',\n",
       "        'ONEDRIVE': 'C:\\\\Users\\\\vchaita3\\\\OneDrive - UHG',\n",
       "        'ONEDRIVECOMMERCIAL': 'C:\\\\Users\\\\vchaita3\\\\OneDrive - UHG',\n",
       "        'OS': 'Windows_NT',\n",
       "        'PATH': 'C:\\\\ProgramData\\\\Anaconda3;C:\\\\ProgramData\\\\Anaconda3\\\\Library\\\\mingw-w64\\\\bin;C:\\\\ProgramData\\\\Anaconda3\\\\Library\\\\usr\\\\bin;C:\\\\ProgramData\\\\Anaconda3\\\\Library\\\\bin;C:\\\\ProgramData\\\\Anaconda3\\\\Scripts;C:\\\\Program Files (x86)\\\\Intel\\\\Intel(R) Management Engine Components\\\\iCLS\\\\;C:\\\\Program Files\\\\Intel\\\\Intel(R) Management Engine Components\\\\iCLS\\\\;C:\\\\Program Files (x86)\\\\Common Files\\\\Oracle\\\\Java\\\\javapath;C:\\\\Windows\\\\system32;C:\\\\Windows;C:\\\\Windows\\\\System32\\\\Wbem;C:\\\\Windows\\\\System32\\\\WindowsPowerShell\\\\v1.0\\\\;C:\\\\Windows\\\\System32\\\\OpenSSH\\\\;C:\\\\Windows\\\\DES_Tools;C:\\\\Program Files\\\\Altiris\\\\DAgent;C:\\\\Program Files (x86)\\\\Webex\\\\Webex\\\\Applications;C:\\\\Program Files (x86)\\\\Intel\\\\Intel(R) Management Engine Components\\\\DAL;C:\\\\Program Files\\\\Intel\\\\Intel(R) Management Engine Components\\\\DAL;C:\\\\Program Files (x86)\\\\Intel\\\\Intel(R) Management Engine Components\\\\IPT;C:\\\\Program Files\\\\Intel\\\\Intel(R) Management Engine Components\\\\IPT;C:\\\\Program Files\\\\Intel\\\\WiFi\\\\bin\\\\;C:\\\\Program Files\\\\Common Files\\\\Intel\\\\WirelessCommon\\\\;C:\\\\Program Files (x86)\\\\GitHub\\\\Atom\\\\Bin;C:\\\\Program Files\\\\AppSense\\\\DataNow\\\\Agent\\\\;C:\\\\Program Files\\\\Git\\\\cmd;C:\\\\Program Files (x86)\\\\Redhat\\\\OpenShift\\\\3.7;C:\\\\Program Files\\\\PuTTY\\\\;C:\\\\Ruby24\\\\bin;C:\\\\RUBY25-X64\\\\bin;C:\\\\Program Files (x86)\\\\OSFI\\\\k8s\\\\v1.11;C:\\\\Program Files (x86)\\\\Redhat\\\\OpenShift\\\\3.11;C:\\\\Program Files (x86)\\\\Sennheiser\\\\SoftphoneSDK\\\\;C:\\\\Program Files (x86)\\\\Plantronics\\\\Spokes3G\\\\;C:\\\\Program Files\\\\UnitedHealth Group\\\\Terraform;C:\\\\Go\\\\bin;C:\\\\opscode\\\\chef-workstation\\\\bin\\\\;C:\\\\Users\\\\vchaita3\\\\AppData\\\\Local\\\\Microsoft\\\\WindowsApps;C:\\\\Program Files (x86)\\\\GitHub\\\\Atom\\\\bin;C:\\\\Program Files (x86)\\\\GitHubDesktop\\\\bin;C:\\\\Users\\\\vchaita3\\\\AppData\\\\Local\\\\Programs\\\\Microsoft VS Code\\\\bin;C:\\\\Users\\\\vchaita3\\\\go\\\\bin',\n",
       "        'PATHEXT': '.COM;.EXE;.BAT;.CMD;.VBS;.VBE;.JS;.JSE;.WSF;.WSH;.MSC;.RB;.RBW',\n",
       "        'PROCESSOR_ARCHITECTURE': 'AMD64',\n",
       "        'PROCESSOR_IDENTIFIER': 'Intel64 Family 6 Model 78 Stepping 3, GenuineIntel',\n",
       "        'PROCESSOR_LEVEL': '6',\n",
       "        'PROCESSOR_REVISION': '4e03',\n",
       "        'PROGRAMDATA': 'C:\\\\ProgramData',\n",
       "        'PROGRAMFILES': 'C:\\\\Program Files',\n",
       "        'PROGRAMFILES(X86)': 'C:\\\\Program Files (x86)',\n",
       "        'PROGRAMW6432': 'C:\\\\Program Files',\n",
       "        'PSMODULEPATH': 'C:\\\\Program Files\\\\WindowsPowerShell\\\\Modules;C:\\\\Windows\\\\system32\\\\WindowsPowerShell\\\\v1.0\\\\Modules;C:\\\\opscode\\\\chef-workstation\\\\modules\\\\',\n",
       "        'PUBLIC': 'C:\\\\Users\\\\Public',\n",
       "        'SESSIONNAME': 'Console',\n",
       "        'SID': 'S-1-5-21-588371583-1805265460-4214133073-3127068',\n",
       "        'SNOW_AGENT': 'C:\\\\Program Files\\\\Snow Software\\\\Inventory\\\\Agent',\n",
       "        'SYSTEMDRIVE': 'C:',\n",
       "        'SYSTEMROOT': 'C:\\\\Windows',\n",
       "        'TBTF-CHROME': '\\\\\\\\ms\\\\netlogon\\\\UHG\\\\Scripts\\\\EM\\\\Chrome',\n",
       "        'TBTF-EMIE': '\\\\\\\\ms\\\\netlogon\\\\UHG\\\\Scripts\\\\EM\\\\EMIE',\n",
       "        'TBTF-FIREFOX': '\\\\\\\\ms\\\\netlogon\\\\uhg\\\\scripts\\\\em\\\\Firefox',\n",
       "        'TEMP': 'C:\\\\Users\\\\vchaita3\\\\AppData\\\\Local\\\\Temp',\n",
       "        'TERRAFORM_HOME': 'C:\\\\Program Files\\\\UnitedHealth Group\\\\Terraform',\n",
       "        'TMP': 'C:\\\\Users\\\\vchaita3\\\\AppData\\\\Local\\\\Temp',\n",
       "        'UPN': 'chaitanya_v@optum.com',\n",
       "        'USERDNSDOMAIN': 'MS.DS.UHC.COM',\n",
       "        'USERDOMAIN': 'MS',\n",
       "        'USERDOMAIN_ROAMINGPROFILE': 'MS',\n",
       "        'USERNAME': 'vchaita3',\n",
       "        'USERPROFILE': 'C:\\\\Users\\\\vchaita3',\n",
       "        'VBOX_MSI_INSTALL_PATH': 'C:\\\\Program Files\\\\Oracle\\\\VirtualBox\\\\',\n",
       "        'WINDIR': 'C:\\\\Windows',\n",
       "        'CONDA_PREFIX': 'C:\\\\ProgramData\\\\Anaconda3',\n",
       "        'JPY_INTERRUPT_EVENT': '2472',\n",
       "        'IPY_INTERRUPT_EVENT': '2472',\n",
       "        'JPY_PARENT_PID': '2468',\n",
       "        'TERM': 'xterm-color',\n",
       "        'CLICOLOR': '1',\n",
       "        'PAGER': 'cat',\n",
       "        'GIT_PAGER': 'cat',\n",
       "        'MPLBACKEND': 'module://ipykernel.pylab.backend_inline'}"
      ]
     },
     "execution_count": 2,
     "metadata": {},
     "output_type": "execute_result"
    }
   ],
   "source": [
    "import os\n",
    "os.environ"
   ]
  },
  {
   "cell_type": "code",
   "execution_count": 3,
   "metadata": {},
   "outputs": [
    {
     "data": {
      "text/plain": [
       "<module 'ntpath' from 'C:\\\\ProgramData\\\\Anaconda3\\\\lib\\\\ntpath.py'>"
      ]
     },
     "execution_count": 3,
     "metadata": {},
     "output_type": "execute_result"
    }
   ],
   "source": [
    "os.path"
   ]
  },
  {
   "cell_type": "code",
   "execution_count": 4,
   "metadata": {},
   "outputs": [
    {
     "data": {
      "text/plain": [
       "'nt'"
      ]
     },
     "execution_count": 4,
     "metadata": {},
     "output_type": "execute_result"
    }
   ],
   "source": [
    "os.name"
   ]
  },
  {
   "cell_type": "code",
   "execution_count": 11,
   "metadata": {},
   "outputs": [
    {
     "data": {
      "text/plain": [
       "'C:\\\\Users\\\\vchaita3\\\\Chaitanya\\\\Jupyter Notebook\\\\Python_demo'"
      ]
     },
     "execution_count": 11,
     "metadata": {},
     "output_type": "execute_result"
    }
   ],
   "source": [
    "os.getcwd()"
   ]
  },
  {
   "cell_type": "code",
   "execution_count": 68,
   "metadata": {},
   "outputs": [
    {
     "name": "stdout",
     "output_type": "stream",
     "text": [
      "os.stat_result(st_mode=33206, st_ino=22236523160440149, st_dev=1446980792, st_nlink=1, st_uid=0, st_gid=0, st_size=44, st_atime=1615923421, st_mtime=1615921900, st_ctime=1615921600)\n"
     ]
    }
   ],
   "source": [
    "print(os.stat('smp1.txt'))"
   ]
  },
  {
   "cell_type": "code",
   "execution_count": 69,
   "metadata": {},
   "outputs": [
    {
     "name": "stdout",
     "output_type": "stream",
     "text": [
      "1615921900.341982\n"
     ]
    }
   ],
   "source": [
    "print(os.stat('smp1.txt').st_mtime)"
   ]
  },
  {
   "cell_type": "code",
   "execution_count": 70,
   "metadata": {},
   "outputs": [
    {
     "name": "stdout",
     "output_type": "stream",
     "text": [
      "2021-03-17 00:41:40.341982\n"
     ]
    }
   ],
   "source": [
    "import os\n",
    "from datetime import datetime\n",
    "mod_time = os.stat('smp1.txt').st_mtime\n",
    "print(datetime.fromtimestamp(mod_time))"
   ]
  },
  {
   "cell_type": "code",
   "execution_count": 78,
   "metadata": {},
   "outputs": [
    {
     "ename": "SyntaxError",
     "evalue": "invalid syntax (<ipython-input-78-65a204a54a1b>, line 1)",
     "output_type": "error",
     "traceback": [
      "\u001b[1;36m  File \u001b[1;32m\"<ipython-input-78-65a204a54a1b>\"\u001b[1;36m, line \u001b[1;32m1\u001b[0m\n\u001b[1;33m    for dirpath, dirnames, filenames in os.walk('\\C:')\u001b[0m\n\u001b[1;37m                                                      ^\u001b[0m\n\u001b[1;31mSyntaxError\u001b[0m\u001b[1;31m:\u001b[0m invalid syntax\n"
     ]
    }
   ],
   "source": [
    "for dirpath, dirnames, filenames in os.walk('\\C:') ### Tree command in linux"
   ]
  },
  {
   "cell_type": "markdown",
   "metadata": {},
   "source": [
    "print(os.environ.get('HOME'))"
   ]
  },
  {
   "cell_type": "code",
   "execution_count": 80,
   "metadata": {},
   "outputs": [
    {
     "name": "stdout",
     "output_type": "stream",
     "text": [
      "C:\\Users\\vchaita3\\test.txt\n"
     ]
    }
   ],
   "source": [
    "file_path = os.path.join(os.environ.get('HOME'),'test.txt')\n",
    "print(file_path)"
   ]
  },
  {
   "cell_type": "code",
   "execution_count": 81,
   "metadata": {},
   "outputs": [
    {
     "name": "stdout",
     "output_type": "stream",
     "text": [
      "test.txt\n"
     ]
    }
   ],
   "source": [
    "print(os.path.basename('/tmp/test.txt')) ## Base name of file"
   ]
  },
  {
   "cell_type": "code",
   "execution_count": 83,
   "metadata": {},
   "outputs": [
    {
     "name": "stdout",
     "output_type": "stream",
     "text": [
      "/abc/tmp\n"
     ]
    }
   ],
   "source": [
    "print(os.path.dirname('/abc/tmp/test.txt')) ### dir of the path"
   ]
  },
  {
   "cell_type": "code",
   "execution_count": 84,
   "metadata": {},
   "outputs": [
    {
     "name": "stdout",
     "output_type": "stream",
     "text": [
      "('/abc/tmp', 'test.txt')\n"
     ]
    }
   ],
   "source": [
    "print(os.path.split('/abc/tmp/test.txt'))"
   ]
  },
  {
   "cell_type": "code",
   "execution_count": 85,
   "metadata": {},
   "outputs": [
    {
     "name": "stdout",
     "output_type": "stream",
     "text": [
      "False\n"
     ]
    }
   ],
   "source": [
    "print(os.path.exists('/abc/tmp/test.txt'))"
   ]
  },
  {
   "cell_type": "code",
   "execution_count": 86,
   "metadata": {},
   "outputs": [
    {
     "name": "stdout",
     "output_type": "stream",
     "text": [
      "False\n"
     ]
    }
   ],
   "source": [
    "print(os.path.isdir('/abc/tmp/test.txt'))"
   ]
  },
  {
   "cell_type": "code",
   "execution_count": 88,
   "metadata": {},
   "outputs": [
    {
     "name": "stdout",
     "output_type": "stream",
     "text": [
      "True\n"
     ]
    }
   ],
   "source": [
    "print(os.path.isfile('smp1.txt'))"
   ]
  },
  {
   "cell_type": "code",
   "execution_count": 90,
   "metadata": {},
   "outputs": [
    {
     "name": "stdout",
     "output_type": "stream",
     "text": [
      "('smp1', '.txt')\n"
     ]
    }
   ],
   "source": [
    "print(os.path.splitext('smp1.txt'))"
   ]
  },
  {
   "cell_type": "code",
   "execution_count": 91,
   "metadata": {},
   "outputs": [
    {
     "name": "stdout",
     "output_type": "stream",
     "text": [
      "['__all__', '__builtins__', '__cached__', '__doc__', '__file__', '__loader__', '__name__', '__package__', '__spec__', '_abspath_fallback', '_get_bothseps', '_getfinalpathname', '_getfullpathname', '_getvolumepathname', 'abspath', 'altsep', 'basename', 'commonpath', 'commonprefix', 'curdir', 'defpath', 'devnull', 'dirname', 'exists', 'expanduser', 'expandvars', 'extsep', 'genericpath', 'getatime', 'getctime', 'getmtime', 'getsize', 'isabs', 'isdir', 'isfile', 'islink', 'ismount', 'join', 'lexists', 'normcase', 'normpath', 'os', 'pardir', 'pathsep', 'realpath', 'relpath', 'samefile', 'sameopenfile', 'samestat', 'sep', 'split', 'splitdrive', 'splitext', 'stat', 'supports_unicode_filenames', 'sys']\n"
     ]
    }
   ],
   "source": [
    "print(dir(os.path))"
   ]
  },
  {
   "cell_type": "code",
   "execution_count": 12,
   "metadata": {},
   "outputs": [
    {
     "data": {
      "text/plain": [
       "'vchaita3'"
      ]
     },
     "execution_count": 12,
     "metadata": {},
     "output_type": "execute_result"
    }
   ],
   "source": [
    "os.getlogin()"
   ]
  },
  {
   "cell_type": "code",
   "execution_count": 67,
   "metadata": {},
   "outputs": [
    {
     "data": {
      "text/plain": [
       "['.ipynb_checkpoints',\n",
       " 'bindhu.ipynb',\n",
       " 'flask.ipynb',\n",
       " 'Goodjob.jfif',\n",
       " 'Goodjob_copy.jfif',\n",
       " 'gpt3_ai.ipynb',\n",
       " 'gpt3_test.ipynb',\n",
       " 'gui.ipynb',\n",
       " 'python_class2.ipynb',\n",
       " 'python_classes_inheritance.ipynb',\n",
       " 'python_copy_class.ipynb',\n",
       " 'python_demo.ipynb',\n",
       " 'python_DS.ipynb',\n",
       " 'python_graphs.ipynb',\n",
       " 'Python_OS_Module.ipynb',\n",
       " 'python_pd.ipynb',\n",
       " 'Python_pd2.ipynb',\n",
       " 'Python_pd2_graphs.ipynb',\n",
       " 'python_pd3_graphs.ipynb',\n",
       " 'roughf.ipynb',\n",
       " 'sample_fun_class.py',\n",
       " 'smp.txt',\n",
       " 'smp1.txt',\n",
       " 'smp2.txt',\n",
       " '__pycache__']"
      ]
     },
     "execution_count": 67,
     "metadata": {},
     "output_type": "execute_result"
    }
   ],
   "source": [
    "os.listdir()"
   ]
  },
  {
   "cell_type": "code",
   "execution_count": 17,
   "metadata": {},
   "outputs": [],
   "source": [
    "### Created dir\n",
    "os.mkdir('sample')"
   ]
  },
  {
   "cell_type": "code",
   "execution_count": 22,
   "metadata": {},
   "outputs": [],
   "source": [
    "### Creates multiple dir\n",
    "os.makedirs('dir1/dir2/dir3')"
   ]
  },
  {
   "cell_type": "code",
   "execution_count": 19,
   "metadata": {},
   "outputs": [],
   "source": [
    "### Creates an  empty file.\n",
    "open(\"sample_file.txt\",'a').close()"
   ]
  },
  {
   "cell_type": "code",
   "execution_count": 20,
   "metadata": {},
   "outputs": [],
   "source": [
    "#### removes file.\n",
    "os.remove(\"sample_file.txt\")"
   ]
  },
  {
   "cell_type": "code",
   "execution_count": 21,
   "metadata": {},
   "outputs": [],
   "source": [
    "### Removes dir \n",
    "os.rmdir('sample')"
   ]
  },
  {
   "cell_type": "code",
   "execution_count": 23,
   "metadata": {},
   "outputs": [],
   "source": [
    "#### removes multiple dir\n",
    "os.removedirs('dir1/dir2/dir3')"
   ]
  },
  {
   "cell_type": "code",
   "execution_count": 24,
   "metadata": {},
   "outputs": [],
   "source": [
    "### Creates an  empty file and rename it\n",
    "open(\"sample_file.txt\",'a').close()\n",
    "os.rename('sample_file.txt','smp.txt')"
   ]
  },
  {
   "cell_type": "code",
   "execution_count": null,
   "metadata": {},
   "outputs": [],
   "source": [
    "#### Chown file path, UID, GID\n",
    "os.chown('smp.txt',1002,10)"
   ]
  },
  {
   "cell_type": "code",
   "execution_count": null,
   "metadata": {},
   "outputs": [],
   "source": [
    "#### Change file permissions \n",
    "os.chmod('smp.txt',0o644)"
   ]
  },
  {
   "cell_type": "code",
   "execution_count": null,
   "metadata": {},
   "outputs": [],
   "source": [
    "#### kill OS process\n",
    "##os.kill(process id, Signal)\n",
    "os.kill(12332,9)"
   ]
  },
  {
   "cell_type": "code",
   "execution_count": 25,
   "metadata": {},
   "outputs": [],
   "source": [
    "import io"
   ]
  },
  {
   "cell_type": "code",
   "execution_count": 27,
   "metadata": {},
   "outputs": [
    {
     "name": "stdout",
     "output_type": "stream",
     "text": [
      "smp1.txt\n"
     ]
    }
   ],
   "source": [
    "open('smp1.txt','a').close() ### Create an empty file in append mode\n",
    "f = open('smp1.txt','r') ### open the file in read only format\n",
    "print(f.name) ### printing the file name\n",
    "f.close() ### Closing the file."
   ]
  },
  {
   "cell_type": "code",
   "execution_count": 29,
   "metadata": {},
   "outputs": [
    {
     "name": "stdout",
     "output_type": "stream",
     "text": [
      "r\n",
      "True\n"
     ]
    },
    {
     "ename": "ValueError",
     "evalue": "I/O operation on closed file.",
     "output_type": "error",
     "traceback": [
      "\u001b[1;31m---------------------------------------------------------------------------\u001b[0m",
      "\u001b[1;31mValueError\u001b[0m                                Traceback (most recent call last)",
      "\u001b[1;32m<ipython-input-29-452b6d4a3736>\u001b[0m in \u001b[0;36m<module>\u001b[1;34m\u001b[0m\n\u001b[0;32m      3\u001b[0m \u001b[0mprint\u001b[0m\u001b[1;33m(\u001b[0m\u001b[0mf\u001b[0m\u001b[1;33m.\u001b[0m\u001b[0mmode\u001b[0m\u001b[1;33m)\u001b[0m\u001b[1;33m\u001b[0m\u001b[1;33m\u001b[0m\u001b[0m\n\u001b[0;32m      4\u001b[0m \u001b[0mprint\u001b[0m\u001b[1;33m(\u001b[0m\u001b[0mf\u001b[0m\u001b[1;33m.\u001b[0m\u001b[0mclosed\u001b[0m\u001b[1;33m)\u001b[0m\u001b[1;33m\u001b[0m\u001b[1;33m\u001b[0m\u001b[0m\n\u001b[1;32m----> 5\u001b[1;33m \u001b[0mprint\u001b[0m\u001b[1;33m(\u001b[0m\u001b[0mf\u001b[0m\u001b[1;33m.\u001b[0m\u001b[0mread\u001b[0m\u001b[1;33m(\u001b[0m\u001b[1;33m)\u001b[0m\u001b[1;33m)\u001b[0m\u001b[1;33m\u001b[0m\u001b[1;33m\u001b[0m\u001b[0m\n\u001b[0m",
      "\u001b[1;31mValueError\u001b[0m: I/O operation on closed file."
     ]
    }
   ],
   "source": [
    "with open('smp1.txt','r') as f:\n",
    "    pass\n",
    "print(f.mode) ### Share the file mode \n",
    "print(f.closed) ### check the file is closed or not\n",
    "print(f.read()) ###error as its closed already"
   ]
  },
  {
   "cell_type": "code",
   "execution_count": 31,
   "metadata": {},
   "outputs": [
    {
     "name": "stdout",
     "output_type": "stream",
     "text": [
      "1. sample file\n",
      "2. created by \n",
      "3. chaitanya\n"
     ]
    }
   ],
   "source": [
    "with open('smp1.txt','r') as f:\n",
    "    f_contents = f.read()\n",
    "    print(f_contents)\n",
    "    "
   ]
  },
  {
   "cell_type": "code",
   "execution_count": 38,
   "metadata": {},
   "outputs": [
    {
     "name": "stdout",
     "output_type": "stream",
     "text": [
      "1. sample file\n",
      "2. cr\n"
     ]
    }
   ],
   "source": [
    "with open('smp1.txt','r') as f:\n",
    "    f_contents = f.read(20) ## No of charecters \n",
    "    print(f_contents)\n",
    "    "
   ]
  },
  {
   "cell_type": "code",
   "execution_count": 39,
   "metadata": {},
   "outputs": [
    {
     "name": "stdout",
     "output_type": "stream",
     "text": [
      "1. sample file\n",
      "2. cr\n",
      "eated by \n",
      "3. chaitan\n"
     ]
    }
   ],
   "source": [
    "with open('smp1.txt','r') as f:\n",
    "    f_contents = f.read(20) ## No of charecters \n",
    "    print(f_contents)\n",
    "    \n",
    "    f_contents = f.read(20) ## No of charecters \n",
    "    print(f_contents)"
   ]
  },
  {
   "cell_type": "code",
   "execution_count": 40,
   "metadata": {},
   "outputs": [
    {
     "name": "stdout",
     "output_type": "stream",
     "text": [
      "1. sample file\n",
      "2. created by \n",
      "3. chaitanya"
     ]
    }
   ],
   "source": [
    "with open('smp1.txt','r') as f:\n",
    "    size_to_read = 20\n",
    "    f_contents = f.read(size_to_read)\n",
    "    while len(f_contents) > 0:\n",
    "        print(f_contents,end = '')\n",
    "        f_contents = f.read(size_to_read)\n",
    "   "
   ]
  },
  {
   "cell_type": "code",
   "execution_count": 42,
   "metadata": {},
   "outputs": [
    {
     "name": "stdout",
     "output_type": "stream",
     "text": [
      "1. sample **file\n",
      "2. cr**eated by \n",
      "**3. chaitan**ya**"
     ]
    }
   ],
   "source": [
    "with open('smp1.txt','r') as f:\n",
    "    size_to_read = 10\n",
    "    f_contents = f.read(size_to_read)\n",
    "    while len(f_contents) > 0:\n",
    "        print(f_contents,end = '**')\n",
    "        f_contents = f.read(size_to_read)"
   ]
  },
  {
   "cell_type": "code",
   "execution_count": 32,
   "metadata": {},
   "outputs": [
    {
     "name": "stdout",
     "output_type": "stream",
     "text": [
      "['1. sample file\\n', '2. created by \\n', '3. chaitanya']\n"
     ]
    }
   ],
   "source": [
    "with open('smp1.txt','r') as f:\n",
    "    f_contents = f.readlines()\n",
    "    print(f_contents)\n",
    "    "
   ]
  },
  {
   "cell_type": "code",
   "execution_count": 33,
   "metadata": {},
   "outputs": [
    {
     "name": "stdout",
     "output_type": "stream",
     "text": [
      "1. sample file\n",
      "\n"
     ]
    }
   ],
   "source": [
    "with open('smp1.txt','r') as f:\n",
    "    f_contents = f.readline()\n",
    "    print(f_contents)"
   ]
  },
  {
   "cell_type": "code",
   "execution_count": 34,
   "metadata": {},
   "outputs": [
    {
     "name": "stdout",
     "output_type": "stream",
     "text": [
      "1. sample file\n",
      "\n",
      "2. created by \n",
      "\n"
     ]
    }
   ],
   "source": [
    "with open('smp1.txt','r') as f:\n",
    "    f_contents = f.readline()\n",
    "    print(f_contents)\n",
    "\n",
    "    f_contents = f.readline()\n",
    "    print(f_contents)"
   ]
  },
  {
   "cell_type": "code",
   "execution_count": 35,
   "metadata": {},
   "outputs": [
    {
     "name": "stdout",
     "output_type": "stream",
     "text": [
      "1. sample file\n",
      "2. created by \n"
     ]
    }
   ],
   "source": [
    "with open('smp1.txt','r') as f:\n",
    "    f_contents = f.readline()\n",
    "    print(f_contents, end='')\n",
    "\n",
    "    f_contents = f.readline()\n",
    "    print(f_contents, end='')\n",
    "    "
   ]
  },
  {
   "cell_type": "code",
   "execution_count": 36,
   "metadata": {
    "scrolled": true
   },
   "outputs": [
    {
     "name": "stdout",
     "output_type": "stream",
     "text": [
      "1. sample file\n",
      "2. created by \n",
      "3. chaitanya"
     ]
    }
   ],
   "source": [
    "with open('smp1.txt','r') as f:\n",
    "    for line in f:\n",
    "        print(line, end='')"
   ]
  },
  {
   "cell_type": "code",
   "execution_count": 44,
   "metadata": {},
   "outputs": [
    {
     "name": "stdout",
     "output_type": "stream",
     "text": [
      "21\n"
     ]
    }
   ],
   "source": [
    "with open('smp1.txt','r') as f:\n",
    "    size_to_read = 20\n",
    "    f_contents = f.read(size_to_read)\n",
    "    print(f.tell())"
   ]
  },
  {
   "cell_type": "code",
   "execution_count": 50,
   "metadata": {},
   "outputs": [
    {
     "name": "stdout",
     "output_type": "stream",
     "text": [
      "1. sample *file\n",
      "2. cr*"
     ]
    }
   ],
   "source": [
    "with open('smp1.txt','r') as f:\n",
    "    size_to_read = 10\n",
    "    f_contents = f.read(size_to_read)\n",
    "    print(f_contents, end='*')\n",
    "    \n",
    "    f_contents = f.read(size_to_read)\n",
    "    print(f_contents,end='*')\n",
    "    "
   ]
  },
  {
   "cell_type": "code",
   "execution_count": 52,
   "metadata": {},
   "outputs": [
    {
     "name": "stdout",
     "output_type": "stream",
     "text": [
      "1. sample *1. sample "
     ]
    }
   ],
   "source": [
    "with open('smp1.txt','r') as f:\n",
    "    size_to_read = 10\n",
    "    f_contents = f.read(size_to_read)\n",
    "    print(f_contents, end='*')\n",
    "    f.seek(0)\n",
    "    f_contents = f.read(size_to_read)\n",
    "    print(f_contents,end='')"
   ]
  },
  {
   "cell_type": "code",
   "execution_count": 53,
   "metadata": {},
   "outputs": [
    {
     "name": "stdout",
     "output_type": "stream",
     "text": [
      "1. sample *reated by "
     ]
    }
   ],
   "source": [
    "with open('smp1.txt','r') as f:\n",
    "    size_to_read = 10\n",
    "    f_contents = f.read(size_to_read)\n",
    "    print(f_contents, end='*')\n",
    "    f.seek(20)\n",
    "    f_contents = f.read(size_to_read)\n",
    "    print(f_contents,end='')"
   ]
  },
  {
   "cell_type": "code",
   "execution_count": 54,
   "metadata": {},
   "outputs": [],
   "source": [
    "with open('smp2.txt','w') as f:\n",
    "    pass\n"
   ]
  },
  {
   "cell_type": "code",
   "execution_count": 55,
   "metadata": {},
   "outputs": [],
   "source": [
    "with open('smp2.txt','w') as f:\n",
    "    f.write(\"test\")"
   ]
  },
  {
   "cell_type": "code",
   "execution_count": 57,
   "metadata": {},
   "outputs": [],
   "source": [
    "with open('smp2.txt','w') as f:\n",
    "    f.write(\"test\")\n",
    "    f.seek(0)\n",
    "    f.write(\"test\")"
   ]
  },
  {
   "cell_type": "code",
   "execution_count": 59,
   "metadata": {},
   "outputs": [],
   "source": [
    "with open('smp2.txt','w') as f:\n",
    "    f.write(\"test\")\n",
    "    f.seek(0)\n",
    "    f.write(\"R\") #### Text overwrites test with Rest...it over writes letter R as seek is 0"
   ]
  },
  {
   "cell_type": "code",
   "execution_count": 60,
   "metadata": {},
   "outputs": [],
   "source": [
    "with open('smp1.txt','r') as rf:\n",
    "    with open('smp2.txt','w') as wf:\n",
    "        for line in rf:\n",
    "            wf.write(line) ### Contents of smp1.txt copied line by line into smp2.txt"
   ]
  },
  {
   "cell_type": "code",
   "execution_count": 61,
   "metadata": {},
   "outputs": [],
   "source": [
    "with open('Goodjob.jfif','rb') as rf:\n",
    "    with open('Goodjob_copy.jfif','wb') as wf: ### For binary or image files\n",
    "        for line in rf:\n",
    "            wf.write(line)"
   ]
  },
  {
   "cell_type": "code",
   "execution_count": 64,
   "metadata": {},
   "outputs": [],
   "source": [
    "with open('Goodjob.jfif','rb') as rf:\n",
    "    with open('Goodjob_copy.jfif','wb') as wf: ### For binary or image files\n",
    "        chunk_size = 4096\n",
    "        rf_chunk = rf.read(chunk_size)\n",
    "        while len(rf_chunk) > 0:\n",
    "            wf.write(rf_chunk)\n",
    "            rf_chunk = rf.read(chunk_size)"
   ]
  }
 ],
 "metadata": {
  "kernelspec": {
   "display_name": "Python 3",
   "language": "python",
   "name": "python3"
  },
  "language_info": {
   "codemirror_mode": {
    "name": "ipython",
    "version": 3
   },
   "file_extension": ".py",
   "mimetype": "text/x-python",
   "name": "python",
   "nbconvert_exporter": "python",
   "pygments_lexer": "ipython3",
   "version": "3.7.3"
  }
 },
 "nbformat": 4,
 "nbformat_minor": 2
}
