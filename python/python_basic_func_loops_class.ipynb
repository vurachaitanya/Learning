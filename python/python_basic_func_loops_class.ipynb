{
 "metadata": {
  "language_info": {
   "codemirror_mode": {
    "name": "ipython",
    "version": 3
   },
   "file_extension": ".py",
   "mimetype": "text/x-python",
   "name": "python",
   "nbconvert_exporter": "python",
   "pygments_lexer": "ipython3",
   "version": "3.7.3-final"
  },
  "orig_nbformat": 2,
  "kernelspec": {
   "name": "Python 3.7.3 64-bit ('ProgramData': virtualenv)",
   "display_name": "Python 3.7.3 64-bit ('ProgramData': virtualenv)",
   "metadata": {
    "interpreter": {
     "hash": "b3ba2566441a7c06988d0923437866b63cedc61552a5af99d1f4fb67d367b25f"
    }
   }
  }
 },
 "nbformat": 4,
 "nbformat_minor": 2,
 "cells": [
  {
   "cell_type": "code",
   "execution_count": 25,
   "metadata": {
    "tags": []
   },
   "outputs": [
    {
     "output_type": "stream",
     "name": "stdout",
     "text": "&lt;class &#39;int&#39;&gt;\n&lt;class &#39;float&#39;&gt;\n&lt;class &#39;str&#39;&gt;\n&lt;class &#39;bool&#39;&gt;\n&lt;class &#39;complex&#39;&gt;\n  \n\n&lt;class &#39;list&#39;&gt;\n12\n56\n5\n[12, 5, &#39;hi&#39;, &#39;hello&#39;]\n[19, 5, &#39;hi&#39;, &#39;hello&#39;, 56]\n[19, 5, &#39;hi&#39;, &#39;hello&#39;, 56, 112]\n[100000, 19, 5, &#39;hi&#39;, &#39;hello&#39;, 56, 112]\n[100000, 19, 5, &#39;hello&#39;, 56, 112]\n  \n\n(12, 54, 65, &#39;hi&#39;, &#39;hello&#39;)\n(12, 54, 65, &#39;hi&#39;)\n Tuples END \n\n&lt;class &#39;dict&#39;&gt;\nChaitu\nDocker\nK8s\nDictionary ENDS  \n\n"
    }
   ],
   "source": [
    "#Python \n",
    "#•\tData types\n",
    "#•\tControl structures\n",
    "#•\tFunctions\n",
    "#•\tObject oriented programming \n",
    "#Atomic / Primitive data type (int, float, Boolean)\n",
    "#Non Primitive data type (list, tuples, dictionary) \n",
    "\n",
    "##########Atomic / Primitive data type\n",
    "x = 5\n",
    "print(type(x))\n",
    "y=0.15\n",
    "print (type(y))\n",
    "s=\"Hello world\"\n",
    "print(type (s))\n",
    "k=True\n",
    "print(type(k))\n",
    "d=5+4j\n",
    "print(type(d))\n",
    "print(\"  \\n\")\n",
    "###################Non Primitive data type\n",
    "x=[12,5,'hi','hello',56]\n",
    "print(type(x))\n",
    "print (x[0])\n",
    "print(x[-1])\n",
    "print(x[1])\n",
    "print(x[0:4])\n",
    "\n",
    "x[0]=19\n",
    "print(x)\n",
    "x.append(112)\n",
    "print(x)\n",
    "x.insert(0,100000)\n",
    "print(x)\n",
    "x.remove(\"hi\")\n",
    "print(x)\n",
    "print(\"  \\n\")\n",
    "############Tuples\n",
    "##less Memory,mem intensive, very fast execution, can't edit,append\n",
    "y=(12,54,65,'hi','hello')\n",
    "print(y)\n",
    "print(y[0:4])\n",
    "print(\" Tuples END \\n\")\n",
    "################Dictionary\n",
    "d={'name':'Chaitu',\"skills\":'Docker','office':'optum'}\n",
    "print(type(d))\n",
    "print(d['name'])\n",
    "print(d['skills'])\n",
    "d['skills'] = 'K8s'\n",
    "print(d['skills'])\n",
    "print(\"Dictionary ENDS  \\n\")"
   ]
  },
  {
   "cell_type": "code",
   "execution_count": 32,
   "metadata": {
    "tags": []
   },
   "outputs": [
    {
     "output_type": "stream",
     "name": "stdout",
     "text": "hi\n IF ENDS \n\nwelcome to Hellow world of python\nwelcome to Hellow world of python\nwelcome to Hellow world of python\n[29, 26, 29, 29, 28]\n[29, 26, 29, 29, 28]\nhello python\nhello python\nhello python\nhello python\nhello python\nhello python\nhello python\nhello python\nhello python\nhello python\nhi there 2\nhi there 3\nhi there 4\nhi there 5\nhi there 6\nhi there 7\nhi there 8\nhi there 9\n"
    }
   ],
   "source": [
    "########Loops & Conditions\n",
    "###########IF\n",
    "a=11\n",
    "if a < 20:\n",
    "    print('hi')\n",
    "elif a > 21 and a < 45:\n",
    "    print('hello')\n",
    "else:\n",
    "    print ('you are good')\n",
    "\n",
    "print(\" IF ENDS \\n\")\n",
    "\n",
    "#################For & While loop \n",
    "for i in range(3): ##range(3,10) ###range(1,10,2) 1,3,5,7,9\n",
    "    print(\"welcome to Hellow world of python\")\n",
    "#######more than 25\n",
    "temp = [23,23,20,29,21,24,26,29,23,25,29,28,21]\n",
    "g25=[]\n",
    "for i in temp:\n",
    "    if i > 25:\n",
    "        g25.append(i) \n",
    "print(g25)\n",
    "\n",
    "#########\n",
    "g25=[i for i in temp if i>25]\n",
    "print(g25)\n",
    "\n",
    "#############While\n",
    "x=5\n",
    "while x < 10:\n",
    "    print(\"hello python\")\n",
    "    x=x+1\n",
    "b=2\n",
    "while True:\n",
    "    print(\"hi there\",b)\n",
    "    b=b+1\n",
    "    if b ==10:\n",
    "        break\n"
   ]
  },
  {
   "cell_type": "code",
   "execution_count": 44,
   "metadata": {
    "tags": []
   },
   "outputs": [
    {
     "output_type": "stream",
     "name": "stdout",
     "text": "hello, welcome\n \n\naddition of 5 and 2 is 7\n"
    },
    {
     "output_type": "execute_result",
     "data": {
      "text/plain": "&#39;this is sampel documentation in function &#39;"
     },
     "metadata": {},
     "execution_count": 44
    }
   ],
   "source": [
    "############Functions\n",
    "\n",
    "def chaitu():\n",
    "    print(\"hello, welcome\")\n",
    "    return None\n",
    "chaitu()\n",
    "print(\" \\n\")\n",
    "\n",
    "\n",
    "\n",
    "def add1(a,b):\n",
    "    \"this is sampel documentation in function \"\n",
    "    c=a+b\n",
    "    print(\"addition of %d and %d is %d\"%(a,b,c))\n",
    "    return c\n",
    "add1(5,2)\n",
    "\n",
    "#%.2f fraction of float untill 2 decimal values\n",
    "\n",
    "add1.__doc__"
   ]
  },
  {
   "cell_type": "code",
   "execution_count": 47,
   "metadata": {
    "tags": []
   },
   "outputs": [
    {
     "output_type": "stream",
     "name": "stdout",
     "text": "10\n29\n"
    }
   ],
   "source": [
    "###Lambda function\n",
    "#anonymous function\n",
    "x=lambda x:x+5\n",
    "print (x(5))\n",
    "print(x(24))\n"
   ]
  },
  {
   "cell_type": "code",
   "execution_count": 57,
   "metadata": {
    "tags": []
   },
   "outputs": [
    {
     "output_type": "stream",
     "name": "stdout",
     "text": "45\n55\ndocker\nhello its function\ndocker k8s\nNone\n55\n"
    },
    {
     "output_type": "execute_result",
     "data": {
      "text/plain": "445476"
     },
     "metadata": {},
     "execution_count": 57
    }
   ],
   "source": [
    "#### CLASS\n",
    "class A:\n",
    "    x=45\n",
    "    y=55\n",
    "s=A()\n",
    "print(s.x)\n",
    "print(s.y)\n",
    "\n",
    "class chaitu:\n",
    "    skill1='docker'\n",
    "    skill2='k8s'\n",
    "    skill3='ML'\n",
    "    def new_fun(self):\n",
    "        print(\"hello its function\")\n",
    "        print(self.skill1,self.skill2)\n",
    "        return None\n",
    "    def newsum(self,a,b):\n",
    "        c=a+b\n",
    "        return c\n",
    "c=chaitu()\n",
    "print(c.skill1)\n",
    "print(c.new_fun())\n",
    "\n",
    "print(c.newsum(22,33))\n",
    " #chaitu = owner\n",
    " #c= Tenants\n",
    " #so owner can use tenants \n",
    "\n",
    "######Inheirt class chaitu in class B\n",
    "class B(chaitu):\n",
    "    z=33\n",
    "    def myfun(self):\n",
    "        print(\"sampel\")\n",
    "o=B()\n",
    "o.newsum(22,445454)\n"
   ]
  },
  {
   "cell_type": "code",
   "execution_count": 58,
   "metadata": {},
   "outputs": [
    {
     "output_type": "error",
     "ename": "ModuleNotFoundError",
     "evalue": "No module named &#39;prometheus_to_csv_mysql&#39;",
     "traceback": [
      "\u001b[1;31m---------------------------------------------------------------------------\u001b[0m",
      "\u001b[1;31mModuleNotFoundError\u001b[0m                       Traceback (most recent call last)",
      "\u001b[1;32m&lt;ipython-input-58-f833ce2181ac&gt;\u001b[0m in \u001b[0;36m&lt;module&gt;\u001b[1;34m\u001b[0m\n\u001b[0;32m      1\u001b[0m \u001b[1;31m####       import &lt;file name&gt; ## Sample import code3\u001b[0m\u001b[1;33m\u001b[0m\u001b[1;33m\u001b[0m\u001b[1;33m\u001b[0m\u001b[0m\n\u001b[1;32m----&gt; 2\u001b[1;33m \u001b[1;32mimport\u001b[0m \u001b[0mprometheus_to_csv_mysql\u001b[0m \u001b[1;32mas\u001b[0m \u001b[0mpm\u001b[0m\u001b[1;33m\u001b[0m\u001b[1;33m\u001b[0m\u001b[0m\n\u001b[0m\u001b[0;32m      3\u001b[0m \u001b[0mpm\u001b[0m\u001b[1;33m.\u001b[0m\u001b[0mpfed12\u001b[0m\u001b[1;33m(\u001b[0m\u001b[1;33m)\u001b[0m\u001b[1;33m\u001b[0m\u001b[1;33m\u001b[0m\u001b[0m\n\u001b[0;32m      4\u001b[0m \u001b[1;33m\u001b[0m\u001b[0m\n\u001b[0;32m      5\u001b[0m \u001b[1;33m\u001b[0m\u001b[0m\n",
      "\u001b[1;31mModuleNotFoundError\u001b[0m: No module named &#39;prometheus_to_csv_mysql&#39;"
     ]
    }
   ],
   "source": [
    "####       import <file name> ## Sample import code3\n",
    "import prometheus_to_csv_mysql as pm\n",
    "pm.pfed12()\n",
    "\n",
    "\n"
   ]
  },
  {
   "cell_type": "code",
   "execution_count": 59,
   "metadata": {},
   "outputs": [
    {
     "output_type": "execute_result",
     "data": {
      "text/plain": "&#39;c:\\\\Users\\\\vchaita3\\\\Desktop\\\\files\\\\Jupyter Notebook\\\\Python_demo&#39;"
     },
     "metadata": {},
     "execution_count": 59
    }
   ],
   "source": [
    "import os\n",
    "os.getcwd()\n"
   ]
  }
 ]
}