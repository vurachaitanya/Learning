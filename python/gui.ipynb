{
 "cells": [
  {
   "cell_type": "code",
   "execution_count": 2,
   "metadata": {},
   "outputs": [],
   "source": [
    "from guizero import App\n",
    "app = App(title=\"Srinidhi & SriDarpad\")\n",
    "app.display()"
   ]
  },
  {
   "cell_type": "code",
   "execution_count": 8,
   "metadata": {},
   "outputs": [],
   "source": [
    "from guizero import App, Text\n",
    "app = App(title=\"Srinidhi & SriDarpad\")\n",
    "message = Text(app,text=\"Welcome to Srinidhi & SriDarpad\")\n",
    "app.display()"
   ]
  },
  {
   "cell_type": "code",
   "execution_count": 10,
   "metadata": {},
   "outputs": [],
   "source": [
    "from guizero import App\n",
    "app = App(\"Bindhu!\")\n",
    "app.bg = \"yellow\"\n",
    "#app.bg = \"#FBFBD0\"\n",
    "#app.bg = (251, 251, 208)\n",
    "app.display()"
   ]
  },
  {
   "cell_type": "code",
   "execution_count": 12,
   "metadata": {},
   "outputs": [],
   "source": [
    "from guizero import App, Text\n",
    "app = App(\"Bindhu!\")\n",
    "wanted_text = Text(app,\"Srinidhi & Sridarpad\")\n",
    "app.bg = \"pink\"\n",
    "app.display()"
   ]
  },
  {
   "cell_type": "code",
   "execution_count": 17,
   "metadata": {},
   "outputs": [],
   "source": [
    "from guizero import App, Text\n",
    "app = App(\"Bindhu!\")\n",
    "wanted_text = Text(app,\"No Srinidhi & Sridarpad \")\n",
    "wanted_text.text_size = 30\n",
    "app.bg = \"yellow\"\n",
    "app.display()\n"
   ]
  },
  {
   "cell_type": "code",
   "execution_count": 4,
   "metadata": {},
   "outputs": [],
   "source": [
    "from guizero import App, Text, Picture\n",
    "app = App(\"Art by Srinidhi\")\n",
    "wanted_text = Text(app, \"Srinidhi & SriDarpad\")\n",
    "cat = Picture(app, image=r\"C:\\Users\\vchaita3\\Pictures\\Nidhi.png\")\n",
    "app.display()"
   ]
  },
  {
   "cell_type": "code",
   "execution_count": 21,
   "metadata": {},
   "outputs": [
    {
     "name": "stdout",
     "output_type": "stream",
     "text": [
      "Button was pressed\n",
      "Button was pressed\n",
      "Button was pressed\n",
      "Button was pressed\n",
      "Button was pressed\n",
      "Button was pressed\n",
      "Button was pressed\n",
      "Button was pressed\n",
      "Button was pressed\n",
      "Button was pressed\n"
     ]
    }
   ],
   "source": [
    "from guizero import App, Text, PushButton\n",
    "app = App(\"Top Secret\")\n",
    "title = Text(app, \"You need to press this botton\")\n",
    "def choose_name():\n",
    " print(\"Button was pressed\")\n",
    "button = PushButton(app, choose_name, text=\"Tell me!\")\n",
    "\n",
    "app.display()"
   ]
  },
  {
   "cell_type": "code",
   "execution_count": 8,
   "metadata": {},
   "outputs": [
    {
     "name": "stdout",
     "output_type": "stream",
     "text": [
      "Anuradha\n",
      "Chaitanya\n",
      "Anuradha\n",
      "Bindhu\n",
      "Sri Nidhi\n",
      "Anuradha\n",
      "SriDarpad\n",
      "Anuradha\n",
      "SriDarpad\n",
      "Sri Nidhi\n"
     ]
    }
   ],
   "source": [
    "from guizero import App, Text, PushButton\n",
    "from random import choice\n",
    "# Functions -------------\n",
    "def choose_name():\n",
    " #print(\"Button was pressed\")\n",
    " #first_names = [\"Barbara\", \"Woody\", \"Tiberius\", \"Smokey\",\"Jennifer\", \"Ruby\"]\n",
    " #last_names = [\"Spindleshanks\", \"Mysterioso\", \"Dungeon\",\"Catseye\", \"Darkmeyer\", \"Flamingobreath\"]\n",
    " name = [\"Anuradha\",\"Sri Nidhi\", \"SriDarpad\",\"Chaitanya\", \"Bindhu\"]\n",
    " #spy_name = choice(first_names) + \" \" + choice(last_names)\n",
    " spy_name=choice(name)\n",
    " print(spy_name)\n",
    "\n",
    "# App -------------------\n",
    "app = App(\"TOP SECRET\")\n",
    "# Widgets ---------------\n",
    "title = Text(app, \"Push the red button to find out your spy name\")\n",
    "button = PushButton(app, choose_name, text=\"Tell me!\")\n",
    "button.bg = \"red\"\n",
    "button.text_size = 30\n",
    "# Display ---------------\n",
    "app.display()"
   ]
  },
  {
   "cell_type": "code",
   "execution_count": 9,
   "metadata": {},
   "outputs": [],
   "source": [
    "########\n",
    "#Random name of family printed on screen\n",
    "########\n",
    "\n",
    "from guizero import App, Text, PushButton\n",
    "from random import choice\n",
    "# Functions -------------\n",
    "def choose_name():\n",
    "  name = [\"Anuradha\",\"Sri Nidhi\", \"SriDarpad\",\"Chaitanya\", \"Bindhu\"]\n",
    "  pname.value = choice(name)\n",
    "# App -------------------\n",
    "app = App(\"TOP SECRET\")\n",
    "pname = Text(app, text=\"\")\n",
    "pname.text_size = 30\n",
    "# Widgets ---------------\n",
    "title = Text(app, \"Push the  button to find out your spy name\")\n",
    "button = PushButton(app, choose_name, text=\"Guess me!\")\n",
    "#pname = Text(app, text=\"\")\n",
    "#pname.text_size = 30\n",
    "app.display()"
   ]
  },
  {
   "cell_type": "code",
   "execution_count": null,
   "metadata": {},
   "outputs": [],
   "source": [
    "from guizero import App, Text, PushButton\n",
    "from random import choice\n",
    "# Functions -------------\n",
    "def choose_name():\n",
    " #print(\"Button was pressed\")\n",
    " first_names = [\"Barbara\", \"Woody\", \"Tiberius\", \"Smokey\",\n",
    "\"Jennifer\", \"Ruby\"]\n",
    " last_names = [\"Spindleshanks\", \"Mysterioso\", \"Dungeon\",\n",
    "\"Catseye\", \"Darkmeyer\", \"Flamingobreath\"]\n",
    " spy_name = choice(first_names) + \" \" + choice(last_names)\n",
    " #print(spy_name)\n",
    " name.value = spy_name\n",
    "\n",
    "# App -------------------\n",
    "app = App(\"TOP SECRET\")\n",
    "# Widgets ---------------\n",
    "title = Text(app, \"Push the red button to find out your spy name\")\n",
    "button = PushButton(app, choose_name, text=\"Tell me!\")\n",
    "button.bg = \"red\"\n",
    "button.text_size = 30\n",
    "name = Text(app, text=\"\")\n",
    "# Display ---------------\n",
    "app.display()\n"
   ]
  },
  {
   "cell_type": "code",
   "execution_count": 3,
   "metadata": {},
   "outputs": [
    {
     "name": "stdout",
     "output_type": "stream",
     "text": [
      "Requirement already satisfied: guizero in c:\\programdata\\anaconda3\\lib\\site-packages (1.1.1)\n"
     ]
    }
   ],
   "source": [
    "!pip install guizero"
   ]
  }
 ],
 "metadata": {
  "kernelspec": {
   "display_name": "Python 3",
   "language": "python",
   "name": "python3"
  },
  "language_info": {
   "codemirror_mode": {
    "name": "ipython",
    "version": 3
   },
   "file_extension": ".py",
   "mimetype": "text/x-python",
   "name": "python",
   "nbconvert_exporter": "python",
   "pygments_lexer": "ipython3",
   "version": "3.7.3"
  }
 },
 "nbformat": 4,
 "nbformat_minor": 2
}
